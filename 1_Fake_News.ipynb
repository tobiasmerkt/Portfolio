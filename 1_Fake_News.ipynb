{
 "cells": [
  {
   "cell_type": "markdown",
   "metadata": {},
   "source": [
    "# 1. Load libraries and prepare dataset"
   ]
  },
  {
   "cell_type": "code",
   "execution_count": null,
   "metadata": {
    "collapsed": true
   },
   "outputs": [],
   "source": []
  },
  {
   "cell_type": "code",
   "execution_count": 1,
   "metadata": {
    "collapsed": true
   },
   "outputs": [],
   "source": [
    "import pandas as pd\n",
    "import os\n",
    "from sklearn.feature_extraction.text import CountVectorizer\n",
    "from sklearn.pipeline import Pipeline\n",
    "import numpy as np\n",
    "from sklearn.model_selection import train_test_split"
   ]
  },
  {
   "cell_type": "code",
   "execution_count": 2,
   "metadata": {
    "scrolled": true
   },
   "outputs": [
    {
     "data": {
      "text/plain": [
       "'/Users/TobiasMerkt/Desktop/IE/NLP/Assignments'"
      ]
     },
     "execution_count": 2,
     "metadata": {},
     "output_type": "execute_result"
    }
   ],
   "source": [
    "os.getcwd()"
   ]
  },
  {
   "cell_type": "markdown",
   "metadata": {},
   "source": [
    "After loading the libraries, the dataset is loaded and its first five rows displayed."
   ]
  },
  {
   "cell_type": "code",
   "execution_count": 3,
   "metadata": {
    "scrolled": true
   },
   "outputs": [
    {
     "data": {
      "text/html": [
       "<div>\n",
       "<table border=\"1\" class=\"dataframe\">\n",
       "  <thead>\n",
       "    <tr style=\"text-align: right;\">\n",
       "      <th></th>\n",
       "      <th>ID</th>\n",
       "      <th>title</th>\n",
       "      <th>text</th>\n",
       "      <th>label</th>\n",
       "      <th>X1</th>\n",
       "      <th>X2</th>\n",
       "    </tr>\n",
       "  </thead>\n",
       "  <tbody>\n",
       "    <tr>\n",
       "      <th>0</th>\n",
       "      <td>8476</td>\n",
       "      <td>You Can Smell Hillary’s Fear</td>\n",
       "      <td>Daniel Greenfield, a Shillman Journalism Fello...</td>\n",
       "      <td>FAKE</td>\n",
       "      <td>NaN</td>\n",
       "      <td>NaN</td>\n",
       "    </tr>\n",
       "    <tr>\n",
       "      <th>1</th>\n",
       "      <td>10294</td>\n",
       "      <td>Watch The Exact Moment Paul Ryan Committed Pol...</td>\n",
       "      <td>Google Pinterest Digg Linkedin Reddit Stumbleu...</td>\n",
       "      <td>FAKE</td>\n",
       "      <td>NaN</td>\n",
       "      <td>NaN</td>\n",
       "    </tr>\n",
       "    <tr>\n",
       "      <th>2</th>\n",
       "      <td>3608</td>\n",
       "      <td>Kerry to go to Paris in gesture of sympathy</td>\n",
       "      <td>U.S. Secretary of State John F. Kerry said Mon...</td>\n",
       "      <td>REAL</td>\n",
       "      <td>NaN</td>\n",
       "      <td>NaN</td>\n",
       "    </tr>\n",
       "    <tr>\n",
       "      <th>3</th>\n",
       "      <td>10142</td>\n",
       "      <td>Bernie supporters on Twitter erupt in anger ag...</td>\n",
       "      <td>— Kaydee King (@KaydeeKing) November 9, 2016 T...</td>\n",
       "      <td>FAKE</td>\n",
       "      <td>NaN</td>\n",
       "      <td>NaN</td>\n",
       "    </tr>\n",
       "    <tr>\n",
       "      <th>4</th>\n",
       "      <td>875</td>\n",
       "      <td>The Battle of New York: Why This Primary Matters</td>\n",
       "      <td>It's primary day in New York and front-runners...</td>\n",
       "      <td>REAL</td>\n",
       "      <td>NaN</td>\n",
       "      <td>NaN</td>\n",
       "    </tr>\n",
       "  </tbody>\n",
       "</table>\n",
       "</div>"
      ],
      "text/plain": [
       "      ID                                              title  \\\n",
       "0   8476                       You Can Smell Hillary’s Fear   \n",
       "1  10294  Watch The Exact Moment Paul Ryan Committed Pol...   \n",
       "2   3608        Kerry to go to Paris in gesture of sympathy   \n",
       "3  10142  Bernie supporters on Twitter erupt in anger ag...   \n",
       "4    875   The Battle of New York: Why This Primary Matters   \n",
       "\n",
       "                                                text label   X1   X2  \n",
       "0  Daniel Greenfield, a Shillman Journalism Fello...  FAKE  NaN  NaN  \n",
       "1  Google Pinterest Digg Linkedin Reddit Stumbleu...  FAKE  NaN  NaN  \n",
       "2  U.S. Secretary of State John F. Kerry said Mon...  REAL  NaN  NaN  \n",
       "3  — Kaydee King (@KaydeeKing) November 9, 2016 T...  FAKE  NaN  NaN  \n",
       "4  It's primary day in New York and front-runners...  REAL  NaN  NaN  "
      ]
     },
     "execution_count": 3,
     "metadata": {},
     "output_type": "execute_result"
    }
   ],
   "source": [
    "data = pd.read_csv(\"fake_or_real_news_training.csv\")\n",
    "data.head()"
   ]
  },
  {
   "cell_type": "markdown",
   "metadata": {},
   "source": [
    "Since the X1 and X2 columns are not explained and mostly contain NULL values, we remove them. May also try not to remove them afterwards to boost performance."
   ]
  },
  {
   "cell_type": "code",
   "execution_count": 4,
   "metadata": {},
   "outputs": [
    {
     "data": {
      "text/html": [
       "<div>\n",
       "<table border=\"1\" class=\"dataframe\">\n",
       "  <thead>\n",
       "    <tr style=\"text-align: right;\">\n",
       "      <th></th>\n",
       "      <th>ID</th>\n",
       "      <th>title</th>\n",
       "      <th>text</th>\n",
       "      <th>label</th>\n",
       "    </tr>\n",
       "  </thead>\n",
       "  <tbody>\n",
       "    <tr>\n",
       "      <th>0</th>\n",
       "      <td>8476</td>\n",
       "      <td>You Can Smell Hillary’s Fear</td>\n",
       "      <td>Daniel Greenfield, a Shillman Journalism Fello...</td>\n",
       "      <td>FAKE</td>\n",
       "    </tr>\n",
       "    <tr>\n",
       "      <th>1</th>\n",
       "      <td>10294</td>\n",
       "      <td>Watch The Exact Moment Paul Ryan Committed Pol...</td>\n",
       "      <td>Google Pinterest Digg Linkedin Reddit Stumbleu...</td>\n",
       "      <td>FAKE</td>\n",
       "    </tr>\n",
       "    <tr>\n",
       "      <th>2</th>\n",
       "      <td>3608</td>\n",
       "      <td>Kerry to go to Paris in gesture of sympathy</td>\n",
       "      <td>U.S. Secretary of State John F. Kerry said Mon...</td>\n",
       "      <td>REAL</td>\n",
       "    </tr>\n",
       "    <tr>\n",
       "      <th>3</th>\n",
       "      <td>10142</td>\n",
       "      <td>Bernie supporters on Twitter erupt in anger ag...</td>\n",
       "      <td>— Kaydee King (@KaydeeKing) November 9, 2016 T...</td>\n",
       "      <td>FAKE</td>\n",
       "    </tr>\n",
       "    <tr>\n",
       "      <th>4</th>\n",
       "      <td>875</td>\n",
       "      <td>The Battle of New York: Why This Primary Matters</td>\n",
       "      <td>It's primary day in New York and front-runners...</td>\n",
       "      <td>REAL</td>\n",
       "    </tr>\n",
       "    <tr>\n",
       "      <th>5</th>\n",
       "      <td>6903</td>\n",
       "      <td>Tehran, USA</td>\n",
       "      <td>\\nI’m not an immigrant, but my grandparents ...</td>\n",
       "      <td>FAKE</td>\n",
       "    </tr>\n",
       "    <tr>\n",
       "      <th>6</th>\n",
       "      <td>7341</td>\n",
       "      <td>Girl Horrified At What She Watches Boyfriend D...</td>\n",
       "      <td>Share This Baylee Luciani (left), Screenshot o...</td>\n",
       "      <td>FAKE</td>\n",
       "    </tr>\n",
       "    <tr>\n",
       "      <th>7</th>\n",
       "      <td>95</td>\n",
       "      <td>‘Britain’s Schindler’ Dies at 106</td>\n",
       "      <td>A Czech stockbroker who saved more than 650 Je...</td>\n",
       "      <td>REAL</td>\n",
       "    </tr>\n",
       "    <tr>\n",
       "      <th>8</th>\n",
       "      <td>4869</td>\n",
       "      <td>Fact check: Trump and Clinton at the 'commande...</td>\n",
       "      <td>Hillary Clinton and Donald Trump made some ina...</td>\n",
       "      <td>REAL</td>\n",
       "    </tr>\n",
       "    <tr>\n",
       "      <th>9</th>\n",
       "      <td>2909</td>\n",
       "      <td>Iran reportedly makes new push for uranium con...</td>\n",
       "      <td>Iranian negotiators reportedly have made a las...</td>\n",
       "      <td>REAL</td>\n",
       "    </tr>\n",
       "    <tr>\n",
       "      <th>10</th>\n",
       "      <td>1357</td>\n",
       "      <td>With all three Clintons in Iowa, a glimpse at ...</td>\n",
       "      <td>CEDAR RAPIDS, Iowa — “I had one of the most wo...</td>\n",
       "      <td>REAL</td>\n",
       "    </tr>\n",
       "    <tr>\n",
       "      <th>11</th>\n",
       "      <td>988</td>\n",
       "      <td>Donald Trump’s Shockingly Weak Delegate Game S...</td>\n",
       "      <td>Donald Trump’s organizational problems have go...</td>\n",
       "      <td>REAL</td>\n",
       "    </tr>\n",
       "    <tr>\n",
       "      <th>12</th>\n",
       "      <td>7041</td>\n",
       "      <td>Strong Solar Storm, Tech Risks Today | S0 News...</td>\n",
       "      <td>Click Here To Learn More About Alexandra's Per...</td>\n",
       "      <td>FAKE</td>\n",
       "    </tr>\n",
       "    <tr>\n",
       "      <th>13</th>\n",
       "      <td>7623</td>\n",
       "      <td>10 Ways America Is Preparing for World War 3</td>\n",
       "      <td>October 31, 2016 at 4:52 am \\nPretty factual e...</td>\n",
       "      <td>FAKE</td>\n",
       "    </tr>\n",
       "    <tr>\n",
       "      <th>14</th>\n",
       "      <td>1571</td>\n",
       "      <td>Trump takes on Cruz, but lightly</td>\n",
       "      <td>Killing Obama administration rules, dismantlin...</td>\n",
       "      <td>REAL</td>\n",
       "    </tr>\n",
       "    <tr>\n",
       "      <th>15</th>\n",
       "      <td>4739</td>\n",
       "      <td>How women lead differently</td>\n",
       "      <td>As more women move into high offices, they oft...</td>\n",
       "      <td>REAL</td>\n",
       "    </tr>\n",
       "    <tr>\n",
       "      <th>16</th>\n",
       "      <td>7737</td>\n",
       "      <td>Shocking! Michele Obama &amp; Hillary Caught Glamo...</td>\n",
       "      <td>Shocking! Michele Obama &amp; Hillary Caught Glamo...</td>\n",
       "      <td>FAKE</td>\n",
       "    </tr>\n",
       "    <tr>\n",
       "      <th>17</th>\n",
       "      <td>8716</td>\n",
       "      <td>Hillary Clinton in HUGE Trouble After America ...</td>\n",
       "      <td>0 \\nHillary Clinton has barely just lost the p...</td>\n",
       "      <td>FAKE</td>\n",
       "    </tr>\n",
       "    <tr>\n",
       "      <th>18</th>\n",
       "      <td>3304</td>\n",
       "      <td>What's in that Iran bill that Obama doesn't like?</td>\n",
       "      <td>Washington (CNN) For months, the White House a...</td>\n",
       "      <td>REAL</td>\n",
       "    </tr>\n",
       "    <tr>\n",
       "      <th>19</th>\n",
       "      <td>3078</td>\n",
       "      <td>The 1 chart that explains everything you need ...</td>\n",
       "      <td>While paging through Pew's best data visualiza...</td>\n",
       "      <td>REAL</td>\n",
       "    </tr>\n",
       "    <tr>\n",
       "      <th>20</th>\n",
       "      <td>2517</td>\n",
       "      <td>The slippery slope to Trump’s proposed ban on ...</td>\n",
       "      <td>With little fanfare this fall, the New York de...</td>\n",
       "      <td>REAL</td>\n",
       "    </tr>\n",
       "    <tr>\n",
       "      <th>21</th>\n",
       "      <td>10348</td>\n",
       "      <td>Episode #160 – SUNDAY WIRE: ‘Hail to the Deplo...</td>\n",
       "      <td>November 13, 2016 By 21wire Leave a Comment \\n...</td>\n",
       "      <td>FAKE</td>\n",
       "    </tr>\n",
       "    <tr>\n",
       "      <th>22</th>\n",
       "      <td>778</td>\n",
       "      <td>Hillary Clinton Makes A Bipartisan Appeal on S...</td>\n",
       "      <td>Hillary Clinton told a Staten Island crowd tod...</td>\n",
       "      <td>REAL</td>\n",
       "    </tr>\n",
       "    <tr>\n",
       "      <th>23</th>\n",
       "      <td>3300</td>\n",
       "      <td>New Senate majority leader’s main goal for GOP...</td>\n",
       "      <td>Mitch McConnell has an unusual admonition for ...</td>\n",
       "      <td>REAL</td>\n",
       "    </tr>\n",
       "    <tr>\n",
       "      <th>24</th>\n",
       "      <td>6155</td>\n",
       "      <td>‘Inferno’ and the Overpopulation Myth</td>\n",
       "      <td>Mises.org November 1, 2016 Inferno is a great ...</td>\n",
       "      <td>FAKE</td>\n",
       "    </tr>\n",
       "    <tr>\n",
       "      <th>25</th>\n",
       "      <td>636</td>\n",
       "      <td>Anti-Trump forces seek last-ditch delegate revolt</td>\n",
       "      <td>Washington (CNN) The faction of the GOP that i...</td>\n",
       "      <td>REAL</td>\n",
       "    </tr>\n",
       "    <tr>\n",
       "      <th>26</th>\n",
       "      <td>755</td>\n",
       "      <td>Sanders Trounces Clinton in W. Va. -- But Will...</td>\n",
       "      <td>Meanwhile, Democrat Bernie Sanders picked up m...</td>\n",
       "      <td>REAL</td>\n",
       "    </tr>\n",
       "    <tr>\n",
       "      <th>27</th>\n",
       "      <td>626</td>\n",
       "      <td>Donald Trump Is Changing His Campaign Slogan t...</td>\n",
       "      <td>After a week of nonstop criticism from Democra...</td>\n",
       "      <td>REAL</td>\n",
       "    </tr>\n",
       "    <tr>\n",
       "      <th>28</th>\n",
       "      <td>691</td>\n",
       "      <td>Pure chaos: Donald Trump’s campaign management...</td>\n",
       "      <td>If you want a glimpse into a presidential cand...</td>\n",
       "      <td>REAL</td>\n",
       "    </tr>\n",
       "    <tr>\n",
       "      <th>29</th>\n",
       "      <td>5743</td>\n",
       "      <td>Syrian War Report – November 1, 2016: Syrian M...</td>\n",
       "      <td>Syrian War Report – October 31, 2016: Al-Nusra...</td>\n",
       "      <td>FAKE</td>\n",
       "    </tr>\n",
       "    <tr>\n",
       "      <th>...</th>\n",
       "      <td>...</td>\n",
       "      <td>...</td>\n",
       "      <td>...</td>\n",
       "      <td>...</td>\n",
       "    </tr>\n",
       "    <tr>\n",
       "      <th>3969</th>\n",
       "      <td>9538</td>\n",
       "      <td>Is Global Warming “An Inconvenient Lie”?</td>\n",
       "      <td>geoengineeringwatch.org \\nGlobal warming disin...</td>\n",
       "      <td>FAKE</td>\n",
       "    </tr>\n",
       "    <tr>\n",
       "      <th>3970</th>\n",
       "      <td>5961</td>\n",
       "      <td>Trump's Election Marks the End of Liberal Capi...</td>\n",
       "      <td>Here's something interesting from The Unz Revi...</td>\n",
       "      <td>FAKE</td>\n",
       "    </tr>\n",
       "    <tr>\n",
       "      <th>3971</th>\n",
       "      <td>9752</td>\n",
       "      <td>Russia suggests joint engineering troops’ dril...</td>\n",
       "      <td>Russia suggests joint engineering troops’ dril...</td>\n",
       "      <td>FAKE</td>\n",
       "    </tr>\n",
       "    <tr>\n",
       "      <th>3972</th>\n",
       "      <td>7117</td>\n",
       "      <td>Military Veterans Are Helping To Save Coral Re...</td>\n",
       "      <td>‹ › Arnaldo Rodgers is a trained and educated ...</td>\n",
       "      <td>FAKE</td>\n",
       "    </tr>\n",
       "    <tr>\n",
       "      <th>3973</th>\n",
       "      <td>6161</td>\n",
       "      <td>Trump: Israel is a ray of hope to the world</td>\n",
       "      <td>November 11, 2016 Trump: Israel is a ray of ho...</td>\n",
       "      <td>FAKE</td>\n",
       "    </tr>\n",
       "    <tr>\n",
       "      <th>3974</th>\n",
       "      <td>2504</td>\n",
       "      <td>Along the migrant trail, pressure grows to clo...</td>\n",
       "      <td>With Slovenia behind them and Austria just ahe...</td>\n",
       "      <td>REAL</td>\n",
       "    </tr>\n",
       "    <tr>\n",
       "      <th>3975</th>\n",
       "      <td>9466</td>\n",
       "      <td>News: Inspiring: When This Woman Was Feeling T...</td>\n",
       "      <td>Email \\nWell, if this doesn’t inspire you to d...</td>\n",
       "      <td>FAKE</td>\n",
       "    </tr>\n",
       "    <tr>\n",
       "      <th>3976</th>\n",
       "      <td>8271</td>\n",
       "      <td>Smart Meter Case Testimony Before the Pennsylv...</td>\n",
       "      <td>By Catherine J. Frompovich \\nThis is the conti...</td>\n",
       "      <td>FAKE</td>\n",
       "    </tr>\n",
       "    <tr>\n",
       "      <th>3977</th>\n",
       "      <td>6596</td>\n",
       "      <td>Reporters Stunned to Learn Trump Fans Lining U...</td>\n",
       "      <td>Hillary Camp Caught on Camera Telling Tiny Cro...</td>\n",
       "      <td>FAKE</td>\n",
       "    </tr>\n",
       "    <tr>\n",
       "      <th>3978</th>\n",
       "      <td>8170</td>\n",
       "      <td>IOWA FARMER CLAIMS BILL CLINTON HAD SEX WITH C...</td>\n",
       "      <td>Email \\n\\nSioux Falls, IA | During his 1992 pr...</td>\n",
       "      <td>FAKE</td>\n",
       "    </tr>\n",
       "    <tr>\n",
       "      <th>3979</th>\n",
       "      <td>3216</td>\n",
       "      <td>Republicans Reject Calls on Guantanamo Bay Clo...</td>\n",
       "      <td>Senate Republicans are rejecting renewed calls...</td>\n",
       "      <td>REAL</td>\n",
       "    </tr>\n",
       "    <tr>\n",
       "      <th>3980</th>\n",
       "      <td>4201</td>\n",
       "      <td>GOP elites are now resigned to Donald Trump as...</td>\n",
       "      <td>Throughout the Republican Party, from New Hamp...</td>\n",
       "      <td>REAL</td>\n",
       "    </tr>\n",
       "    <tr>\n",
       "      <th>3981</th>\n",
       "      <td>4192</td>\n",
       "      <td>Trump's Indiana win raises unsettling question...</td>\n",
       "      <td>Donald Trump became the presumptive Republican...</td>\n",
       "      <td>REAL</td>\n",
       "    </tr>\n",
       "    <tr>\n",
       "      <th>3982</th>\n",
       "      <td>9850</td>\n",
       "      <td>Cypriot leaders to continue talks in November: UN</td>\n",
       "      <td>EU UN Secretary-General Ban Ki-moon (C) meets ...</td>\n",
       "      <td>FAKE</td>\n",
       "    </tr>\n",
       "    <tr>\n",
       "      <th>3983</th>\n",
       "      <td>3598</td>\n",
       "      <td>Freed Al Qaeda operative floated as part of pr...</td>\n",
       "      <td>An admitted Al Qaeda agent released this month...</td>\n",
       "      <td>REAL</td>\n",
       "    </tr>\n",
       "    <tr>\n",
       "      <th>3984</th>\n",
       "      <td>10244</td>\n",
       "      <td>This Viral Video Has Hillary Running Scared</td>\n",
       "      <td>This Viral Video Has Hillary Running Scared Th...</td>\n",
       "      <td>FAKE</td>\n",
       "    </tr>\n",
       "    <tr>\n",
       "      <th>3985</th>\n",
       "      <td>5837</td>\n",
       "      <td>Comment on After Sweeping Election, First Thin...</td>\n",
       "      <td>Dispatches from Wolf Country –Sitting in my ca...</td>\n",
       "      <td>FAKE</td>\n",
       "    </tr>\n",
       "    <tr>\n",
       "      <th>3986</th>\n",
       "      <td>2787</td>\n",
       "      <td>Obama to keep 5,500 US troops in Afghanistan b...</td>\n",
       "      <td>President Obama announced Thursday he will kee...</td>\n",
       "      <td>REAL</td>\n",
       "    </tr>\n",
       "    <tr>\n",
       "      <th>3987</th>\n",
       "      <td>9229</td>\n",
       "      <td>Family Remembers Queens Sucker Punch Victim ‘H...</td>\n",
       "      <td>Family Remembers Queens Sucker Punch Victim ‘H...</td>\n",
       "      <td>FAKE</td>\n",
       "    </tr>\n",
       "    <tr>\n",
       "      <th>3988</th>\n",
       "      <td>8556</td>\n",
       "      <td>Black Americans Going For Donald Trump In Reco...</td>\n",
       "      <td>NTEB Ads Privacy Policy Black Americans Going ...</td>\n",
       "      <td>FAKE</td>\n",
       "    </tr>\n",
       "    <tr>\n",
       "      <th>3989</th>\n",
       "      <td>2966</td>\n",
       "      <td>Success against ISIS requires a team of teams</td>\n",
       "      <td>A truck bomb detonates in a lively street, con...</td>\n",
       "      <td>REAL</td>\n",
       "    </tr>\n",
       "    <tr>\n",
       "      <th>3990</th>\n",
       "      <td>1433</td>\n",
       "      <td>The Edge: Cruz, Trump get media attention post...</td>\n",
       "      <td>**Want FOX News First in your inbox every day?...</td>\n",
       "      <td>REAL</td>\n",
       "    </tr>\n",
       "    <tr>\n",
       "      <th>3991</th>\n",
       "      <td>328</td>\n",
       "      <td>NY police investigate possible sighting of esc...</td>\n",
       "      <td>New York State Police are looking into a possi...</td>\n",
       "      <td>REAL</td>\n",
       "    </tr>\n",
       "    <tr>\n",
       "      <th>3992</th>\n",
       "      <td>4723</td>\n",
       "      <td>“He and I Haven’t Spoken”: Trump and Pence Are...</td>\n",
       "      <td>In the middle of a heated exchange about the S...</td>\n",
       "      <td>REAL</td>\n",
       "    </tr>\n",
       "    <tr>\n",
       "      <th>3993</th>\n",
       "      <td>7927</td>\n",
       "      <td>FBI Director may be sacked for intrusion into ...</td>\n",
       "      <td>FBI Director may be sacked for intrusion into ...</td>\n",
       "      <td>FAKE</td>\n",
       "    </tr>\n",
       "    <tr>\n",
       "      <th>3994</th>\n",
       "      <td>802</td>\n",
       "      <td>Fault lines: GOP civil war deepens</td>\n",
       "      <td>Washington (CNN) Donald Trump is poised to bre...</td>\n",
       "      <td>REAL</td>\n",
       "    </tr>\n",
       "    <tr>\n",
       "      <th>3995</th>\n",
       "      <td>1026</td>\n",
       "      <td>Clinton, under fire for oil and gas donations,...</td>\n",
       "      <td>Clinton lost her temper at an event on Thursda...</td>\n",
       "      <td>REAL</td>\n",
       "    </tr>\n",
       "    <tr>\n",
       "      <th>3996</th>\n",
       "      <td>1459</td>\n",
       "      <td>His rivals are saying the same thing in differ...</td>\n",
       "      <td>Chris Christie depicts Marco Rubio as a truant...</td>\n",
       "      <td>REAL</td>\n",
       "    </tr>\n",
       "    <tr>\n",
       "      <th>3997</th>\n",
       "      <td>5366</td>\n",
       "      <td>The Genocide of Indigenous Peoples in North Am...</td>\n",
       "      <td>Prof. Tony Hall Speaks Out on Mohawk Territory...</td>\n",
       "      <td>FAKE</td>\n",
       "    </tr>\n",
       "    <tr>\n",
       "      <th>3998</th>\n",
       "      <td>9673</td>\n",
       "      <td>Checkmating Obama</td>\n",
       "      <td>Originally published by the Jerusalem Post . \\...</td>\n",
       "      <td>FAKE</td>\n",
       "    </tr>\n",
       "  </tbody>\n",
       "</table>\n",
       "<p>3999 rows × 4 columns</p>\n",
       "</div>"
      ],
      "text/plain": [
       "         ID                                              title  \\\n",
       "0      8476                       You Can Smell Hillary’s Fear   \n",
       "1     10294  Watch The Exact Moment Paul Ryan Committed Pol...   \n",
       "2      3608        Kerry to go to Paris in gesture of sympathy   \n",
       "3     10142  Bernie supporters on Twitter erupt in anger ag...   \n",
       "4       875   The Battle of New York: Why This Primary Matters   \n",
       "5      6903                                        Tehran, USA   \n",
       "6      7341  Girl Horrified At What She Watches Boyfriend D...   \n",
       "7        95                  ‘Britain’s Schindler’ Dies at 106   \n",
       "8      4869  Fact check: Trump and Clinton at the 'commande...   \n",
       "9      2909  Iran reportedly makes new push for uranium con...   \n",
       "10     1357  With all three Clintons in Iowa, a glimpse at ...   \n",
       "11      988  Donald Trump’s Shockingly Weak Delegate Game S...   \n",
       "12     7041  Strong Solar Storm, Tech Risks Today | S0 News...   \n",
       "13     7623       10 Ways America Is Preparing for World War 3   \n",
       "14     1571                   Trump takes on Cruz, but lightly   \n",
       "15     4739                         How women lead differently   \n",
       "16     7737  Shocking! Michele Obama & Hillary Caught Glamo...   \n",
       "17     8716  Hillary Clinton in HUGE Trouble After America ...   \n",
       "18     3304  What's in that Iran bill that Obama doesn't like?   \n",
       "19     3078  The 1 chart that explains everything you need ...   \n",
       "20     2517  The slippery slope to Trump’s proposed ban on ...   \n",
       "21    10348  Episode #160 – SUNDAY WIRE: ‘Hail to the Deplo...   \n",
       "22      778  Hillary Clinton Makes A Bipartisan Appeal on S...   \n",
       "23     3300  New Senate majority leader’s main goal for GOP...   \n",
       "24     6155              ‘Inferno’ and the Overpopulation Myth   \n",
       "25      636  Anti-Trump forces seek last-ditch delegate revolt   \n",
       "26      755  Sanders Trounces Clinton in W. Va. -- But Will...   \n",
       "27      626  Donald Trump Is Changing His Campaign Slogan t...   \n",
       "28      691  Pure chaos: Donald Trump’s campaign management...   \n",
       "29     5743  Syrian War Report – November 1, 2016: Syrian M...   \n",
       "...     ...                                                ...   \n",
       "3969   9538           Is Global Warming “An Inconvenient Lie”?   \n",
       "3970   5961  Trump's Election Marks the End of Liberal Capi...   \n",
       "3971   9752  Russia suggests joint engineering troops’ dril...   \n",
       "3972   7117  Military Veterans Are Helping To Save Coral Re...   \n",
       "3973   6161        Trump: Israel is a ray of hope to the world   \n",
       "3974   2504  Along the migrant trail, pressure grows to clo...   \n",
       "3975   9466  News: Inspiring: When This Woman Was Feeling T...   \n",
       "3976   8271  Smart Meter Case Testimony Before the Pennsylv...   \n",
       "3977   6596  Reporters Stunned to Learn Trump Fans Lining U...   \n",
       "3978   8170  IOWA FARMER CLAIMS BILL CLINTON HAD SEX WITH C...   \n",
       "3979   3216  Republicans Reject Calls on Guantanamo Bay Clo...   \n",
       "3980   4201  GOP elites are now resigned to Donald Trump as...   \n",
       "3981   4192  Trump's Indiana win raises unsettling question...   \n",
       "3982   9850  Cypriot leaders to continue talks in November: UN   \n",
       "3983   3598  Freed Al Qaeda operative floated as part of pr...   \n",
       "3984  10244        This Viral Video Has Hillary Running Scared   \n",
       "3985   5837  Comment on After Sweeping Election, First Thin...   \n",
       "3986   2787  Obama to keep 5,500 US troops in Afghanistan b...   \n",
       "3987   9229  Family Remembers Queens Sucker Punch Victim ‘H...   \n",
       "3988   8556  Black Americans Going For Donald Trump In Reco...   \n",
       "3989   2966      Success against ISIS requires a team of teams   \n",
       "3990   1433  The Edge: Cruz, Trump get media attention post...   \n",
       "3991    328  NY police investigate possible sighting of esc...   \n",
       "3992   4723  “He and I Haven’t Spoken”: Trump and Pence Are...   \n",
       "3993   7927  FBI Director may be sacked for intrusion into ...   \n",
       "3994    802                 Fault lines: GOP civil war deepens   \n",
       "3995   1026  Clinton, under fire for oil and gas donations,...   \n",
       "3996   1459  His rivals are saying the same thing in differ...   \n",
       "3997   5366  The Genocide of Indigenous Peoples in North Am...   \n",
       "3998   9673                                  Checkmating Obama   \n",
       "\n",
       "                                                   text label  \n",
       "0     Daniel Greenfield, a Shillman Journalism Fello...  FAKE  \n",
       "1     Google Pinterest Digg Linkedin Reddit Stumbleu...  FAKE  \n",
       "2     U.S. Secretary of State John F. Kerry said Mon...  REAL  \n",
       "3     — Kaydee King (@KaydeeKing) November 9, 2016 T...  FAKE  \n",
       "4     It's primary day in New York and front-runners...  REAL  \n",
       "5       \\nI’m not an immigrant, but my grandparents ...  FAKE  \n",
       "6     Share This Baylee Luciani (left), Screenshot o...  FAKE  \n",
       "7     A Czech stockbroker who saved more than 650 Je...  REAL  \n",
       "8     Hillary Clinton and Donald Trump made some ina...  REAL  \n",
       "9     Iranian negotiators reportedly have made a las...  REAL  \n",
       "10    CEDAR RAPIDS, Iowa — “I had one of the most wo...  REAL  \n",
       "11    Donald Trump’s organizational problems have go...  REAL  \n",
       "12    Click Here To Learn More About Alexandra's Per...  FAKE  \n",
       "13    October 31, 2016 at 4:52 am \\nPretty factual e...  FAKE  \n",
       "14    Killing Obama administration rules, dismantlin...  REAL  \n",
       "15    As more women move into high offices, they oft...  REAL  \n",
       "16    Shocking! Michele Obama & Hillary Caught Glamo...  FAKE  \n",
       "17    0 \\nHillary Clinton has barely just lost the p...  FAKE  \n",
       "18    Washington (CNN) For months, the White House a...  REAL  \n",
       "19    While paging through Pew's best data visualiza...  REAL  \n",
       "20    With little fanfare this fall, the New York de...  REAL  \n",
       "21    November 13, 2016 By 21wire Leave a Comment \\n...  FAKE  \n",
       "22    Hillary Clinton told a Staten Island crowd tod...  REAL  \n",
       "23    Mitch McConnell has an unusual admonition for ...  REAL  \n",
       "24    Mises.org November 1, 2016 Inferno is a great ...  FAKE  \n",
       "25    Washington (CNN) The faction of the GOP that i...  REAL  \n",
       "26    Meanwhile, Democrat Bernie Sanders picked up m...  REAL  \n",
       "27    After a week of nonstop criticism from Democra...  REAL  \n",
       "28    If you want a glimpse into a presidential cand...  REAL  \n",
       "29    Syrian War Report – October 31, 2016: Al-Nusra...  FAKE  \n",
       "...                                                 ...   ...  \n",
       "3969  geoengineeringwatch.org \\nGlobal warming disin...  FAKE  \n",
       "3970  Here's something interesting from The Unz Revi...  FAKE  \n",
       "3971  Russia suggests joint engineering troops’ dril...  FAKE  \n",
       "3972  ‹ › Arnaldo Rodgers is a trained and educated ...  FAKE  \n",
       "3973  November 11, 2016 Trump: Israel is a ray of ho...  FAKE  \n",
       "3974  With Slovenia behind them and Austria just ahe...  REAL  \n",
       "3975  Email \\nWell, if this doesn’t inspire you to d...  FAKE  \n",
       "3976  By Catherine J. Frompovich \\nThis is the conti...  FAKE  \n",
       "3977  Hillary Camp Caught on Camera Telling Tiny Cro...  FAKE  \n",
       "3978  Email \\n\\nSioux Falls, IA | During his 1992 pr...  FAKE  \n",
       "3979  Senate Republicans are rejecting renewed calls...  REAL  \n",
       "3980  Throughout the Republican Party, from New Hamp...  REAL  \n",
       "3981  Donald Trump became the presumptive Republican...  REAL  \n",
       "3982  EU UN Secretary-General Ban Ki-moon (C) meets ...  FAKE  \n",
       "3983  An admitted Al Qaeda agent released this month...  REAL  \n",
       "3984  This Viral Video Has Hillary Running Scared Th...  FAKE  \n",
       "3985  Dispatches from Wolf Country –Sitting in my ca...  FAKE  \n",
       "3986  President Obama announced Thursday he will kee...  REAL  \n",
       "3987  Family Remembers Queens Sucker Punch Victim ‘H...  FAKE  \n",
       "3988  NTEB Ads Privacy Policy Black Americans Going ...  FAKE  \n",
       "3989  A truck bomb detonates in a lively street, con...  REAL  \n",
       "3990  **Want FOX News First in your inbox every day?...  REAL  \n",
       "3991  New York State Police are looking into a possi...  REAL  \n",
       "3992  In the middle of a heated exchange about the S...  REAL  \n",
       "3993  FBI Director may be sacked for intrusion into ...  FAKE  \n",
       "3994  Washington (CNN) Donald Trump is poised to bre...  REAL  \n",
       "3995  Clinton lost her temper at an event on Thursda...  REAL  \n",
       "3996  Chris Christie depicts Marco Rubio as a truant...  REAL  \n",
       "3997  Prof. Tony Hall Speaks Out on Mohawk Territory...  FAKE  \n",
       "3998  Originally published by the Jerusalem Post . \\...  FAKE  \n",
       "\n",
       "[3999 rows x 4 columns]"
      ]
     },
     "execution_count": 4,
     "metadata": {},
     "output_type": "execute_result"
    }
   ],
   "source": [
    "data.drop(['X1','X2'], axis=1)"
   ]
  },
  {
   "cell_type": "markdown",
   "metadata": {},
   "source": [
    "Further, the title and text are merged. One could also create separate document-term matrices for the title and text if they likely contain  different indicators (e.g. a certain word in the title indicates fake news). However, after conducting a web search, I've come to the conclusion that fake news mostly use similar words as real news and the differences are nuances. If time allows (Edit: As expected, it did not allow it), both options can be tested against each other."
   ]
  },
  {
   "cell_type": "code",
   "execution_count": 5,
   "metadata": {},
   "outputs": [
    {
     "data": {
      "text/html": [
       "<div>\n",
       "<table border=\"1\" class=\"dataframe\">\n",
       "  <thead>\n",
       "    <tr style=\"text-align: right;\">\n",
       "      <th></th>\n",
       "      <th>ID</th>\n",
       "      <th>title</th>\n",
       "      <th>text</th>\n",
       "      <th>label</th>\n",
       "      <th>X1</th>\n",
       "      <th>X2</th>\n",
       "      <th>fulltext</th>\n",
       "    </tr>\n",
       "  </thead>\n",
       "  <tbody>\n",
       "    <tr>\n",
       "      <th>0</th>\n",
       "      <td>8476</td>\n",
       "      <td>You Can Smell Hillary’s Fear</td>\n",
       "      <td>Daniel Greenfield, a Shillman Journalism Fello...</td>\n",
       "      <td>FAKE</td>\n",
       "      <td>NaN</td>\n",
       "      <td>NaN</td>\n",
       "      <td>You Can Smell Hillary’s Fear Daniel Greenfield...</td>\n",
       "    </tr>\n",
       "    <tr>\n",
       "      <th>1</th>\n",
       "      <td>10294</td>\n",
       "      <td>Watch The Exact Moment Paul Ryan Committed Pol...</td>\n",
       "      <td>Google Pinterest Digg Linkedin Reddit Stumbleu...</td>\n",
       "      <td>FAKE</td>\n",
       "      <td>NaN</td>\n",
       "      <td>NaN</td>\n",
       "      <td>Watch The Exact Moment Paul Ryan Committed Pol...</td>\n",
       "    </tr>\n",
       "  </tbody>\n",
       "</table>\n",
       "</div>"
      ],
      "text/plain": [
       "      ID                                              title  \\\n",
       "0   8476                       You Can Smell Hillary’s Fear   \n",
       "1  10294  Watch The Exact Moment Paul Ryan Committed Pol...   \n",
       "\n",
       "                                                text label   X1   X2  \\\n",
       "0  Daniel Greenfield, a Shillman Journalism Fello...  FAKE  NaN  NaN   \n",
       "1  Google Pinterest Digg Linkedin Reddit Stumbleu...  FAKE  NaN  NaN   \n",
       "\n",
       "                                            fulltext  \n",
       "0  You Can Smell Hillary’s Fear Daniel Greenfield...  \n",
       "1  Watch The Exact Moment Paul Ryan Committed Pol...  "
      ]
     },
     "execution_count": 5,
     "metadata": {},
     "output_type": "execute_result"
    }
   ],
   "source": [
    "data['fulltext'] = data.title.str.cat(data.text, sep = ' ')\n",
    "data.head(2)"
   ]
  },
  {
   "cell_type": "code",
   "execution_count": 6,
   "metadata": {},
   "outputs": [
    {
     "data": {
      "text/html": [
       "<div>\n",
       "<table border=\"1\" class=\"dataframe\">\n",
       "  <thead>\n",
       "    <tr style=\"text-align: right;\">\n",
       "      <th></th>\n",
       "      <th>ID</th>\n",
       "      <th>title</th>\n",
       "      <th>text</th>\n",
       "    </tr>\n",
       "  </thead>\n",
       "  <tbody>\n",
       "    <tr>\n",
       "      <th>0</th>\n",
       "      <td>10498</td>\n",
       "      <td>September New Homes Sales Rise——-Back To 1992 ...</td>\n",
       "      <td>September New Homes Sales Rise Back To 1992 Le...</td>\n",
       "    </tr>\n",
       "    <tr>\n",
       "      <th>1</th>\n",
       "      <td>2439</td>\n",
       "      <td>Why The Obamacare Doomsday Cult Can't Admit It...</td>\n",
       "      <td>But when Congress debated and passed the Patie...</td>\n",
       "    </tr>\n",
       "    <tr>\n",
       "      <th>2</th>\n",
       "      <td>864</td>\n",
       "      <td>Sanders, Cruz resist pressure after NY losses,...</td>\n",
       "      <td>The Bernie Sanders and Ted Cruz campaigns vowe...</td>\n",
       "    </tr>\n",
       "    <tr>\n",
       "      <th>3</th>\n",
       "      <td>4128</td>\n",
       "      <td>Surviving escaped prisoner likely fatigued and...</td>\n",
       "      <td>Police searching for the second of two escaped...</td>\n",
       "    </tr>\n",
       "    <tr>\n",
       "      <th>4</th>\n",
       "      <td>662</td>\n",
       "      <td>Clinton and Sanders neck and neck in Californi...</td>\n",
       "      <td>No matter who wins California's 475 delegates ...</td>\n",
       "    </tr>\n",
       "  </tbody>\n",
       "</table>\n",
       "</div>"
      ],
      "text/plain": [
       "      ID                                              title  \\\n",
       "0  10498  September New Homes Sales Rise——-Back To 1992 ...   \n",
       "1   2439  Why The Obamacare Doomsday Cult Can't Admit It...   \n",
       "2    864  Sanders, Cruz resist pressure after NY losses,...   \n",
       "3   4128  Surviving escaped prisoner likely fatigued and...   \n",
       "4    662  Clinton and Sanders neck and neck in Californi...   \n",
       "\n",
       "                                                text  \n",
       "0  September New Homes Sales Rise Back To 1992 Le...  \n",
       "1  But when Congress debated and passed the Patie...  \n",
       "2  The Bernie Sanders and Ted Cruz campaigns vowe...  \n",
       "3  Police searching for the second of two escaped...  \n",
       "4  No matter who wins California's 475 delegates ...  "
      ]
     },
     "execution_count": 6,
     "metadata": {},
     "output_type": "execute_result"
    }
   ],
   "source": [
    "final_test = pd.read_csv(\"fake_or_real_news_test.csv\")\n",
    "final_test.head()"
   ]
  },
  {
   "cell_type": "code",
   "execution_count": 7,
   "metadata": {},
   "outputs": [
    {
     "data": {
      "text/html": [
       "<div>\n",
       "<table border=\"1\" class=\"dataframe\">\n",
       "  <thead>\n",
       "    <tr style=\"text-align: right;\">\n",
       "      <th></th>\n",
       "      <th>ID</th>\n",
       "      <th>title</th>\n",
       "      <th>text</th>\n",
       "      <th>fulltext</th>\n",
       "    </tr>\n",
       "  </thead>\n",
       "  <tbody>\n",
       "    <tr>\n",
       "      <th>0</th>\n",
       "      <td>10498</td>\n",
       "      <td>September New Homes Sales Rise——-Back To 1992 ...</td>\n",
       "      <td>September New Homes Sales Rise Back To 1992 Le...</td>\n",
       "      <td>September New Homes Sales Rise——-Back To 1992 ...</td>\n",
       "    </tr>\n",
       "    <tr>\n",
       "      <th>1</th>\n",
       "      <td>2439</td>\n",
       "      <td>Why The Obamacare Doomsday Cult Can't Admit It...</td>\n",
       "      <td>But when Congress debated and passed the Patie...</td>\n",
       "      <td>Why The Obamacare Doomsday Cult Can't Admit It...</td>\n",
       "    </tr>\n",
       "  </tbody>\n",
       "</table>\n",
       "</div>"
      ],
      "text/plain": [
       "      ID                                              title  \\\n",
       "0  10498  September New Homes Sales Rise——-Back To 1992 ...   \n",
       "1   2439  Why The Obamacare Doomsday Cult Can't Admit It...   \n",
       "\n",
       "                                                text  \\\n",
       "0  September New Homes Sales Rise Back To 1992 Le...   \n",
       "1  But when Congress debated and passed the Patie...   \n",
       "\n",
       "                                            fulltext  \n",
       "0  September New Homes Sales Rise——-Back To 1992 ...  \n",
       "1  Why The Obamacare Doomsday Cult Can't Admit It...  "
      ]
     },
     "execution_count": 7,
     "metadata": {},
     "output_type": "execute_result"
    }
   ],
   "source": [
    "final_test['fulltext'] = final_test.title.str.cat(final_test.text, sep = ' ')\n",
    "final_test.head(2)"
   ]
  },
  {
   "cell_type": "code",
   "execution_count": null,
   "metadata": {
    "collapsed": true
   },
   "outputs": [],
   "source": []
  },
  {
   "cell_type": "markdown",
   "metadata": {},
   "source": [
    "The dataset is split into a training and a test set"
   ]
  },
  {
   "cell_type": "code",
   "execution_count": 8,
   "metadata": {
    "collapsed": true
   },
   "outputs": [],
   "source": [
    "train, test = train_test_split(data, test_size=0.3)"
   ]
  },
  {
   "cell_type": "code",
   "execution_count": 9,
   "metadata": {
    "scrolled": false
   },
   "outputs": [
    {
     "name": "stdout",
     "output_type": "stream",
     "text": [
      "<class 'pandas.core.frame.DataFrame'>\n",
      "Int64Index: 2799 entries, 2008 to 2446\n",
      "Data columns (total 7 columns):\n",
      "ID          2799 non-null int64\n",
      "title       2799 non-null object\n",
      "text        2799 non-null object\n",
      "label       2799 non-null object\n",
      "X1          22 non-null object\n",
      "X2          2 non-null object\n",
      "fulltext    2799 non-null object\n",
      "dtypes: int64(1), object(6)\n",
      "memory usage: 174.9+ KB\n"
     ]
    }
   ],
   "source": [
    "train.info()"
   ]
  },
  {
   "cell_type": "markdown",
   "metadata": {},
   "source": [
    "# 2. Data Preprocessing"
   ]
  },
  {
   "cell_type": "code",
   "execution_count": 10,
   "metadata": {},
   "outputs": [
    {
     "data": {
      "text/plain": [
       "0"
      ]
     },
     "execution_count": 10,
     "metadata": {},
     "output_type": "execute_result"
    }
   ],
   "source": [
    "train.fulltext.isnull().sum()"
   ]
  },
  {
   "cell_type": "markdown",
   "metadata": {},
   "source": [
    "To train a model, the text file must be converted into a numerical feature vector using the CountVectorizer (creates a Document-Term-Matrix from the input text file)."
   ]
  },
  {
   "cell_type": "code",
   "execution_count": 11,
   "metadata": {},
   "outputs": [
    {
     "data": {
      "text/plain": [
       "(2799, 48023)"
      ]
     },
     "execution_count": 11,
     "metadata": {},
     "output_type": "execute_result"
    }
   ],
   "source": [
    "from sklearn.feature_extraction.text import CountVectorizer\n",
    "count_vect = CountVectorizer()\n",
    "train_counts = count_vect.fit_transform(train.fulltext)\n",
    "train_counts.shape"
   ]
  },
  {
   "cell_type": "markdown",
   "metadata": {},
   "source": [
    "This Document-Term-Matrix in fact is just a bag-of-words model in which only the term frequency is relevant. We want to give a higher rank to terms which appear very often in very few documents as they are likely to be more indicative than terms which appear in many documents -> Create a TF-IDF matrix."
   ]
  },
  {
   "cell_type": "code",
   "execution_count": 12,
   "metadata": {
    "scrolled": true
   },
   "outputs": [
    {
     "data": {
      "text/plain": [
       "(2799, 48023)"
      ]
     },
     "execution_count": 12,
     "metadata": {},
     "output_type": "execute_result"
    }
   ],
   "source": [
    "from sklearn.feature_extraction.text import TfidfTransformer\n",
    "tfidf_transformer = TfidfTransformer()\n",
    "train_tfidf = tfidf_transformer.fit_transform(train_counts)\n",
    "train_tfidf.shape"
   ]
  },
  {
   "cell_type": "code",
   "execution_count": null,
   "metadata": {
    "collapsed": true
   },
   "outputs": [],
   "source": []
  },
  {
   "cell_type": "markdown",
   "metadata": {},
   "source": [
    "# 3. Model creation"
   ]
  },
  {
   "cell_type": "markdown",
   "metadata": {},
   "source": [
    "## 3.1. Naive Bayes Classifier"
   ]
  },
  {
   "cell_type": "code",
   "execution_count": 13,
   "metadata": {
    "collapsed": true
   },
   "outputs": [],
   "source": [
    "from sklearn.naive_bayes import MultinomialNB\n",
    "clf = MultinomialNB().fit(train_tfidf, train.label)"
   ]
  },
  {
   "cell_type": "markdown",
   "metadata": {},
   "source": [
    "One can also use a pipeline instead of the work above. Since I used this analysis for learning purposes, I still found it useful to code the entire process. From now on, the pipeline is used to optimise the performance and use different models quickly."
   ]
  },
  {
   "cell_type": "code",
   "execution_count": 45,
   "metadata": {
    "collapsed": true
   },
   "outputs": [],
   "source": [
    "from sklearn.feature_extraction.text import TfidfTransformer\n",
    "from sklearn.naive_bayes import MultinomialNB\n",
    "\n",
    "text_clf_NB = Pipeline([('vect', CountVectorizer()),\n",
    "                     ('tfidf', TfidfTransformer()),\n",
    "                     ('clf', MultinomialNB(fit_prior=False)),#fit_prior slightly improves predictions\n",
    "])\n",
    "text_clf_NB = text_clf_NB.fit(train.fulltext, train.label)"
   ]
  },
  {
   "cell_type": "markdown",
   "metadata": {},
   "source": [
    "As can be seen below, a 76% accuracy is achieved by using a Naive Bayes classifier on the TF-IDF matrix."
   ]
  },
  {
   "cell_type": "code",
   "execution_count": 46,
   "metadata": {},
   "outputs": [
    {
     "data": {
      "text/plain": [
       "0.76333333333333331"
      ]
     },
     "execution_count": 46,
     "metadata": {},
     "output_type": "execute_result"
    }
   ],
   "source": [
    "predicted = text_clf_NB.predict(test.fulltext)\n",
    "np.mean(predicted == test.label)"
   ]
  },
  {
   "cell_type": "code",
   "execution_count": null,
   "metadata": {
    "collapsed": true
   },
   "outputs": [],
   "source": []
  },
  {
   "cell_type": "markdown",
   "metadata": {},
   "source": [
    "## 3.2. Support Vector Machines"
   ]
  },
  {
   "cell_type": "markdown",
   "metadata": {},
   "source": [
    "An SVM produces the following results (Alpha, Result) with penalty = 12\n",
    "    1e-2: 0.776\n",
    "    1e-3: 0.905\n",
    "    1e-4: 0.9267\n",
    "    1e-5: 0.9258\n",
    "Consequently, alpha = 1e-4 will be chosen."
   ]
  },
  {
   "cell_type": "code",
   "execution_count": 36,
   "metadata": {
    "scrolled": true
   },
   "outputs": [
    {
     "data": {
      "text/plain": [
       "0.92666666666666664"
      ]
     },
     "execution_count": 36,
     "metadata": {},
     "output_type": "execute_result"
    }
   ],
   "source": [
    "from sklearn.linear_model import SGDClassifier\n",
    "text_clf_svm = Pipeline([('vect', CountVectorizer()), ('tfidf', TfidfTransformer()),\n",
    "                         ('clf-svm', SGDClassifier(loss='hinge', penalty='l2',alpha=1e-4, n_iter=5, random_state=42))])\n",
    "\n",
    "text_clf_svm = text_clf_svm.fit(train.fulltext, train.label)\n",
    "predicted_svm = text_clf_svm.predict(test.fulltext)\n",
    "np.mean(predicted_svm == test.label)"
   ]
  },
  {
   "cell_type": "code",
   "execution_count": null,
   "metadata": {
    "collapsed": true
   },
   "outputs": [],
   "source": []
  },
  {
   "cell_type": "markdown",
   "metadata": {
    "collapsed": true
   },
   "source": [
    "## 3.3. Grid Search"
   ]
  },
  {
   "cell_type": "markdown",
   "metadata": {
    "collapsed": true
   },
   "source": [
    "By performing a grid search, some parameter values will be tested to find their optimal combination."
   ]
  },
  {
   "cell_type": "markdown",
   "metadata": {},
   "source": [
    "### 3.3.1. Naive Bayes"
   ]
  },
  {
   "cell_type": "code",
   "execution_count": 22,
   "metadata": {
    "collapsed": true
   },
   "outputs": [],
   "source": [
    "from sklearn.model_selection import GridSearchCV\n",
    "parameters = {'vect__ngram_range': [(1, 1), (1, 2)], 'tfidf__use_idf': (True, False), 'clf__alpha': (1e-2, 1e-3)}"
   ]
  },
  {
   "cell_type": "code",
   "execution_count": 23,
   "metadata": {},
   "outputs": [
    {
     "name": "stderr",
     "output_type": "stream",
     "text": [
      "/Applications/anaconda3/lib/python3.6/site-packages/sklearn/model_selection/_split.py:581: Warning: The least populated class in y has only 1 members, which is too few. The minimum number of groups for any class cannot be less than n_splits=3.\n",
      "  % (min_groups, self.n_splits)), Warning)\n"
     ]
    }
   ],
   "source": [
    "gs_clf = GridSearchCV(text_clf_NB, parameters, n_jobs=-1) #n_jobs -1: Use multiples cores\n",
    "gs_clf = gs_clf.fit(train.fulltext, train.label)"
   ]
  },
  {
   "cell_type": "markdown",
   "metadata": {},
   "source": [
    "The grid search improved the search result from Naive Bayes from 0.76 to 0.89 - a significant improvement."
   ]
  },
  {
   "cell_type": "code",
   "execution_count": 26,
   "metadata": {},
   "outputs": [
    {
     "data": {
      "text/plain": [
       "0.89424794569489108"
      ]
     },
     "execution_count": 26,
     "metadata": {},
     "output_type": "execute_result"
    }
   ],
   "source": [
    "gs_clf.best_score_"
   ]
  },
  {
   "cell_type": "markdown",
   "metadata": {},
   "source": [
    "The following parameter optimise the Naive Bayes' result:"
   ]
  },
  {
   "cell_type": "code",
   "execution_count": 27,
   "metadata": {
    "scrolled": true
   },
   "outputs": [
    {
     "data": {
      "text/plain": [
       "{'clf__alpha': 0.001, 'tfidf__use_idf': False, 'vect__ngram_range': (1, 1)}"
      ]
     },
     "execution_count": 27,
     "metadata": {},
     "output_type": "execute_result"
    }
   ],
   "source": [
    "gs_clf.best_params_"
   ]
  },
  {
   "cell_type": "code",
   "execution_count": null,
   "metadata": {
    "collapsed": true
   },
   "outputs": [],
   "source": []
  },
  {
   "cell_type": "markdown",
   "metadata": {},
   "source": [
    "### 3.3.2. SVM"
   ]
  },
  {
   "cell_type": "markdown",
   "metadata": {},
   "source": [
    "In several iterations, I've tested alpha values from 1e-03 to 1e-08 and found that alpha is optimised at 1e-05. The score is lower as in the previous example because it tests the result on a different dataset (train vs. test dataset)."
   ]
  },
  {
   "cell_type": "code",
   "execution_count": 33,
   "metadata": {},
   "outputs": [
    {
     "name": "stderr",
     "output_type": "stream",
     "text": [
      "/Applications/anaconda3/lib/python3.6/site-packages/sklearn/model_selection/_split.py:581: Warning: The least populated class in y has only 1 members, which is too few. The minimum number of groups for any class cannot be less than n_splits=3.\n",
      "  % (min_groups, self.n_splits)), Warning)\n"
     ]
    }
   ],
   "source": [
    "parameters_svm = {'vect__ngram_range': [(1, 1), (1, 2)], 'tfidf__use_idf': (True, False),'clf-svm__alpha': (1e-5, 1e-8)}\n",
    "\n",
    "gs_clf_svm = GridSearchCV(text_clf_svm, parameters_svm, n_jobs=-1)\n",
    "gs_clf_svm = gs_clf_svm.fit(train.fulltext, train.label)"
   ]
  },
  {
   "cell_type": "code",
   "execution_count": 34,
   "metadata": {},
   "outputs": [
    {
     "data": {
      "text/plain": [
       "0.91032511611289746"
      ]
     },
     "execution_count": 34,
     "metadata": {},
     "output_type": "execute_result"
    }
   ],
   "source": [
    "gs_clf_svm.best_score_"
   ]
  },
  {
   "cell_type": "code",
   "execution_count": 35,
   "metadata": {
    "scrolled": true
   },
   "outputs": [
    {
     "data": {
      "text/plain": [
       "{'clf-svm__alpha': 1e-05, 'tfidf__use_idf': True, 'vect__ngram_range': (1, 2)}"
      ]
     },
     "execution_count": 35,
     "metadata": {},
     "output_type": "execute_result"
    }
   ],
   "source": [
    "gs_clf_svm.best_params_"
   ]
  },
  {
   "cell_type": "markdown",
   "metadata": {},
   "source": [
    "On the test dataset, the performance is 0.92833 and thus slightly better than the previous result of 0.9267."
   ]
  },
  {
   "cell_type": "code",
   "execution_count": 37,
   "metadata": {},
   "outputs": [
    {
     "data": {
      "text/plain": [
       "0.92833333333333334"
      ]
     },
     "execution_count": 37,
     "metadata": {},
     "output_type": "execute_result"
    }
   ],
   "source": [
    "gs_svm_predict = gs_clf_svm.predict(test.fulltext)\n",
    "np.mean(gs_svm_predict == test.label)"
   ]
  },
  {
   "cell_type": "code",
   "execution_count": null,
   "metadata": {
    "collapsed": true
   },
   "outputs": [],
   "source": []
  },
  {
   "cell_type": "markdown",
   "metadata": {},
   "source": [
    "# 4. Optimisation"
   ]
  },
  {
   "cell_type": "markdown",
   "metadata": {},
   "source": [
    "With these basic models running, they can be optimised by 1) removing the stop words and 2) stemming. One can also use POS Tagging and parsing to improve the classification models."
   ]
  },
  {
   "cell_type": "code",
   "execution_count": null,
   "metadata": {
    "collapsed": true
   },
   "outputs": [],
   "source": []
  },
  {
   "cell_type": "markdown",
   "metadata": {},
   "source": [
    "## 4.1. Removing stop words"
   ]
  },
  {
   "cell_type": "markdown",
   "metadata": {},
   "source": [
    "Stop words are words which appear very often and do not provide useful information on the context (e.g., \"and\", \"the\"). By removing them, the accuracy increases to 0.8067."
   ]
  },
  {
   "cell_type": "code",
   "execution_count": 39,
   "metadata": {
    "collapsed": true
   },
   "outputs": [],
   "source": [
    "text_clf_NB = Pipeline([('vect', CountVectorizer(stop_words='english')), ('tfidf', TfidfTransformer()), \n",
    "                     ('clf', MultinomialNB())])\n",
    "text_clf_NB = text_clf_NB.fit(train.fulltext, train.label)"
   ]
  },
  {
   "cell_type": "code",
   "execution_count": 40,
   "metadata": {},
   "outputs": [
    {
     "data": {
      "text/plain": [
       "0.80666666666666664"
      ]
     },
     "execution_count": 40,
     "metadata": {},
     "output_type": "execute_result"
    }
   ],
   "source": [
    "predicted = text_clf_NB.predict(test.fulltext)\n",
    "np.mean(predicted == test.label)"
   ]
  },
  {
   "cell_type": "code",
   "execution_count": null,
   "metadata": {
    "collapsed": true
   },
   "outputs": [],
   "source": []
  },
  {
   "cell_type": "markdown",
   "metadata": {},
   "source": [
    "The performance (0.93) is slightly better than without removing stopwords (0.9283)."
   ]
  },
  {
   "cell_type": "code",
   "execution_count": 52,
   "metadata": {},
   "outputs": [
    {
     "data": {
      "text/plain": [
       "0.93000000000000005"
      ]
     },
     "execution_count": 52,
     "metadata": {},
     "output_type": "execute_result"
    }
   ],
   "source": [
    "text_clf_svm_sw = Pipeline([('vect', CountVectorizer(stop_words='english', ngram_range=(1, 2))), ('tfidf', TfidfTransformer()),\n",
    "                         ('clf-svm', SGDClassifier(loss='hinge', penalty='l2',alpha=1e-5, n_iter=5, random_state=42))])\n",
    "\n",
    "text_clf_svm_sw = text_clf_svm_sw.fit(train.fulltext, train.label)\n",
    "predicted_svm_sw = text_clf_svm_sw.predict(test.fulltext)\n",
    "np.mean(predicted_svm_sw == test.label)"
   ]
  },
  {
   "cell_type": "code",
   "execution_count": null,
   "metadata": {
    "collapsed": true
   },
   "outputs": [],
   "source": []
  },
  {
   "cell_type": "markdown",
   "metadata": {},
   "source": [
    "## 4.2. Stemming"
   ]
  },
  {
   "cell_type": "markdown",
   "metadata": {},
   "source": [
    "A stemming algorithm shortens words to their root form (e.g., stemmer/ stemmed -> stem). This allows us to better estimate the frequency of roots which occur in varying forms."
   ]
  },
  {
   "cell_type": "code",
   "execution_count": 49,
   "metadata": {
    "collapsed": true
   },
   "outputs": [],
   "source": [
    "import nltk\n",
    "#nltk.download()\n",
    "\n",
    "from nltk.stem.snowball import SnowballStemmer\n",
    "stemmer = SnowballStemmer(\"english\", ignore_stopwords=True)\n",
    "\n",
    "class StemmedCountVectorizer(CountVectorizer):\n",
    "    def build_analyzer(self):\n",
    "        analyzer = super(StemmedCountVectorizer, self).build_analyzer()\n",
    "        return lambda doc: ([stemmer.stem(w) for w in analyzer(doc)])\n",
    "    \n",
    "stemmed_count_vect = StemmedCountVectorizer(stop_words='english')"
   ]
  },
  {
   "cell_type": "markdown",
   "metadata": {},
   "source": [
    "### 4.2.1. Naive Bayes"
   ]
  },
  {
   "cell_type": "markdown",
   "metadata": {},
   "source": [
    "The naive bayes model achieves a result of 0.8117 which is slightly better than without stemming. "
   ]
  },
  {
   "cell_type": "code",
   "execution_count": 53,
   "metadata": {},
   "outputs": [
    {
     "data": {
      "text/plain": [
       "0.81166666666666665"
      ]
     },
     "execution_count": 53,
     "metadata": {},
     "output_type": "execute_result"
    }
   ],
   "source": [
    "mnb_stemmed = Pipeline([('vect', stemmed_count_vect), ('tfidf', TfidfTransformer()), \n",
    "                             ('mnb', MultinomialNB(fit_prior=False))])\n",
    "\n",
    "mnb_stemmed = mnb_stemmed.fit(train.fulltext, train.label)\n",
    "\n",
    "predicted_mnb_stemmed = mnb_stemmed.predict(test.fulltext)\n",
    "np.mean(predicted_mnb_stemmed == test.label)"
   ]
  },
  {
   "cell_type": "code",
   "execution_count": null,
   "metadata": {
    "collapsed": true
   },
   "outputs": [],
   "source": []
  },
  {
   "cell_type": "markdown",
   "metadata": {},
   "source": [
    "### 4.2.2. SVM"
   ]
  },
  {
   "cell_type": "markdown",
   "metadata": {},
   "source": [
    "Compared to the previous result (0.93), the stemmed SVM produces slightly worse results (0.9275)."
   ]
  },
  {
   "cell_type": "code",
   "execution_count": 57,
   "metadata": {},
   "outputs": [
    {
     "data": {
      "text/plain": [
       "0.92749999999999999"
      ]
     },
     "execution_count": 57,
     "metadata": {},
     "output_type": "execute_result"
    }
   ],
   "source": [
    "text_clf_svm_stem = Pipeline([('vect', stemmed_count_vect), ('tfidf', TfidfTransformer()),\n",
    "                         ('clf-svm', SGDClassifier(loss='hinge', penalty='l2',alpha=1e-5, n_iter=5, random_state=42))])\n",
    "\n",
    "text_clf_svm_stem = text_clf_svm_stem.fit(train.fulltext, train.label)\n",
    "predicted_svm_stem = text_clf_svm_stem.predict(test.fulltext)\n",
    "np.mean(predicted_svm_stem == test.label)"
   ]
  }
 ],
 "metadata": {
  "kernelspec": {
   "display_name": "Python 3",
   "language": "python",
   "name": "python3"
  },
  "language_info": {
   "codemirror_mode": {
    "name": "ipython",
    "version": 3
   },
   "file_extension": ".py",
   "mimetype": "text/x-python",
   "name": "python",
   "nbconvert_exporter": "python",
   "pygments_lexer": "ipython3",
   "version": "3.6.3"
  }
 },
 "nbformat": 4,
 "nbformat_minor": 2
}
